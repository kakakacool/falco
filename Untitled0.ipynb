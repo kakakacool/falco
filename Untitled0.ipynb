{
 "metadata": {
  "name": "",
  "signature": "sha256:3c1a80914debffebdfadb756467e3d057e3d3c07b06bea10fca583030fd17afa"
 },
 "nbformat": 3,
 "nbformat_minor": 0,
 "worksheets": [
  {
   "cells": [
    {
     "cell_type": "code",
     "collapsed": false,
     "input": [
      "import re\n",
      "f = open('testlist.txt','r').readlines()\n",
      "for item in f:\n",
      "    if re.search('\\:(\\d+\\\\.)?(\\d+\\\\.)', item):\n",
      "        print item.strip('\\n')"
     ],
     "language": "python",
     "metadata": {},
     "outputs": [
      {
       "output_type": "stream",
       "stream": "stdout",
       "text": [
        "mail:8.1\n",
        "perl:5.16.2\n",
        "md5:1.34\n",
        "patch:2.5.8\n",
        "python:2.7.5\n",
        "md5:1.34\n",
        "pr:2.5.8\n",
        "sed:1.39\n",
        "wc:1.21\n"
       ]
      }
     ],
     "prompt_number": 8
    },
    {
     "cell_type": "code",
     "collapsed": false,
     "input": [],
     "language": "python",
     "metadata": {},
     "outputs": []
    }
   ],
   "metadata": {}
  }
 ]
}