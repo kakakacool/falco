{
 "metadata": {
  "name": "",
  "signature": "sha256:5091c0477ab59a3e383544e827f0b05f926145316e75849f1dae088897ab7153"
 },
 "nbformat": 3,
 "nbformat_minor": 0,
 "worksheets": [
  {
   "cells": [
    {
     "cell_type": "code",
     "collapsed": false,
     "input": [
      "\n",
      "\"\"\" Uses some code I found on stack overflow, looking for version \n",
      "strings in a binary\n",
      "\"\"\"\n",
      "\n",
      "import string\n",
      "import sys\n",
      "import re\n",
      "\n",
      "def strings(filename, min=4):\n",
      "    \"\"\" This is essentially the unix strings funcitonality.\n",
      "        Code was copied from a stack overflow example\n",
      "    \"\"\"\n",
      "    with open(filename, \"rb\") as f:\n",
      "        result = \"\"\n",
      "        for c in f.read():\n",
      "            if c in string.printable:\n",
      "                result += c\n",
      "                continue\n",
      "            if len(result) >= min:\n",
      "                yield result\n",
      "            result = \"\"\n",
      "\n",
      "def main():\n",
      "\tf = sys.argv[1]\n",
      "\tcontent = strings(f,4)\n",
      "\t# This is a version string, matches N, N.N or N.N.N\n",
      "\tversion = '(\\d+\\\\.)?(\\d+\\\\.)?(\\d+\\\\.)'\n",
      "\tprint \"Searching %s for version information\"%(f,)\n",
      "\tfor each in content:\n",
      "\t\tif re.search(version,each):\n",
      "\t\t\tprint each\n",
      "\tprint \"Searching for IP addresses embedded:\"\n",
      "\tipv4addr = '(\\d{1,3})\\.(\\d{1,3})\\.(\\d{1,3})\\.(\\d{1,3})'\n",
      "\tcontent = strings(f,4)\n",
      "\tfor each in content:\n",
      "\t\taddr = re.search(ipv4addr,each)\n",
      "\t\tif addr:\n",
      "\t\t\tprint \"%s.%s.%s.%s\"%(addresses.groups[0])\n",
      "\t\t\tprint each\n",
      "\n",
      "if __name__ == \"__main__\":\n",
      "    main()\n",
      "    "
     ],
     "language": "python",
     "metadata": {},
     "outputs": [
      {
       "output_type": "stream",
       "stream": "stdout",
       "text": [
        "Searching -f for version information\n"
       ]
      },
      {
       "ename": "IOError",
       "evalue": "[Errno 2] No such file or directory: '-f'",
       "output_type": "pyerr",
       "traceback": [
        "\u001b[0;31m---------------------------------------------------------------------------\u001b[0m\n\u001b[0;31mIOError\u001b[0m                                   Traceback (most recent call last)",
        "\u001b[0;32m<ipython-input-7-55cd28fa06b9>\u001b[0m in \u001b[0;36m<module>\u001b[0;34m()\u001b[0m\n\u001b[1;32m     41\u001b[0m \u001b[0;34m\u001b[0m\u001b[0m\n\u001b[1;32m     42\u001b[0m \u001b[0;32mif\u001b[0m \u001b[0m__name__\u001b[0m \u001b[0;34m==\u001b[0m \u001b[0;34m\"__main__\"\u001b[0m\u001b[0;34m:\u001b[0m\u001b[0;34m\u001b[0m\u001b[0m\n\u001b[0;32m---> 43\u001b[0;31m     \u001b[0mmain\u001b[0m\u001b[0;34m(\u001b[0m\u001b[0;34m)\u001b[0m\u001b[0;34m\u001b[0m\u001b[0m\n\u001b[0m\u001b[1;32m     44\u001b[0m \u001b[0;34m\u001b[0m\u001b[0m\n",
        "\u001b[0;32m<ipython-input-7-55cd28fa06b9>\u001b[0m in \u001b[0;36mmain\u001b[0;34m()\u001b[0m\n\u001b[1;32m     28\u001b[0m         \u001b[0mversion\u001b[0m \u001b[0;34m=\u001b[0m \u001b[0;34m'(\\d+\\\\.)?(\\d+\\\\.)?(\\d+\\\\.)'\u001b[0m\u001b[0;34m\u001b[0m\u001b[0m\n\u001b[1;32m     29\u001b[0m         \u001b[0;32mprint\u001b[0m \u001b[0;34m\"Searching %s for version information\"\u001b[0m\u001b[0;34m%\u001b[0m\u001b[0;34m(\u001b[0m\u001b[0mf\u001b[0m\u001b[0;34m,\u001b[0m\u001b[0;34m)\u001b[0m\u001b[0;34m\u001b[0m\u001b[0m\n\u001b[0;32m---> 30\u001b[0;31m         \u001b[0;32mfor\u001b[0m \u001b[0meach\u001b[0m \u001b[0;32min\u001b[0m \u001b[0mcontent\u001b[0m\u001b[0;34m:\u001b[0m\u001b[0;34m\u001b[0m\u001b[0m\n\u001b[0m\u001b[1;32m     31\u001b[0m                 \u001b[0;32mif\u001b[0m \u001b[0mre\u001b[0m\u001b[0;34m.\u001b[0m\u001b[0msearch\u001b[0m\u001b[0;34m(\u001b[0m\u001b[0mversion\u001b[0m\u001b[0;34m,\u001b[0m\u001b[0meach\u001b[0m\u001b[0;34m)\u001b[0m\u001b[0;34m:\u001b[0m\u001b[0;34m\u001b[0m\u001b[0m\n\u001b[1;32m     32\u001b[0m                         \u001b[0;32mprint\u001b[0m \u001b[0meach\u001b[0m\u001b[0;34m\u001b[0m\u001b[0m\n",
        "\u001b[0;32m<ipython-input-7-55cd28fa06b9>\u001b[0m in \u001b[0;36mstrings\u001b[0;34m(filename, min)\u001b[0m\n\u001b[1;32m     12\u001b[0m         \u001b[0mCode\u001b[0m \u001b[0mwas\u001b[0m \u001b[0mcopied\u001b[0m \u001b[0;32mfrom\u001b[0m \u001b[0ma\u001b[0m \u001b[0mstack\u001b[0m \u001b[0moverflow\u001b[0m \u001b[0mexample\u001b[0m\u001b[0;34m\u001b[0m\u001b[0m\n\u001b[1;32m     13\u001b[0m     \"\"\"\n\u001b[0;32m---> 14\u001b[0;31m     \u001b[0;32mwith\u001b[0m \u001b[0mopen\u001b[0m\u001b[0;34m(\u001b[0m\u001b[0mfilename\u001b[0m\u001b[0;34m,\u001b[0m \u001b[0;34m\"rb\"\u001b[0m\u001b[0;34m)\u001b[0m \u001b[0;32mas\u001b[0m \u001b[0mf\u001b[0m\u001b[0;34m:\u001b[0m\u001b[0;34m\u001b[0m\u001b[0m\n\u001b[0m\u001b[1;32m     15\u001b[0m         \u001b[0mresult\u001b[0m \u001b[0;34m=\u001b[0m \u001b[0;34m\"\"\u001b[0m\u001b[0;34m\u001b[0m\u001b[0m\n\u001b[1;32m     16\u001b[0m         \u001b[0;32mfor\u001b[0m \u001b[0mc\u001b[0m \u001b[0;32min\u001b[0m \u001b[0mf\u001b[0m\u001b[0;34m.\u001b[0m\u001b[0mread\u001b[0m\u001b[0;34m(\u001b[0m\u001b[0;34m)\u001b[0m\u001b[0;34m:\u001b[0m\u001b[0;34m\u001b[0m\u001b[0m\n",
        "\u001b[0;31mIOError\u001b[0m: [Errno 2] No such file or directory: '-f'"
       ]
      }
     ],
     "prompt_number": 7
    },
    {
     "cell_type": "code",
     "collapsed": false,
     "input": [
      "import string\n",
      "import sys\n",
      "import re\n",
      "\n",
      "def strings(filename, min=4):\n",
      "    \"\"\" This is essentially the unix strings funcitonality.\n",
      "        Code was copied from a stack overflow example\n",
      "    \"\"\"\n",
      "    with open(filename, \"rb\") as f:\n",
      "        result = \"\"\n",
      "        for c in f.read():\n",
      "            if c in string.printable:\n",
      "                result += c\n",
      "                continue\n",
      "            if len(result) >= min:\n",
      "                yield result\n",
      "            result = \"\"\n",
      "\n",
      "ipv4addr = '(\\d{1,3})\\.(\\d{1,3})\\.(\\d{1,3})\\.(\\d{1,3})'\n",
      "hosts = open('/etc/hosts','rb')\n",
      "for each in hosts:\n",
      "    m = re.search(ipv4addr,each)\n",
      "    if m:\n",
      "        print \"%s.%s.%s.%s\"%(m.groups())               "
     ],
     "language": "python",
     "metadata": {},
     "outputs": [
      {
       "output_type": "stream",
       "stream": "stdout",
       "text": [
        "127.0.0.1\n",
        "255.255.255.255\n",
        "192.168.0.20\n",
        "192.168.0.1\n",
        "192.168.0.12\n",
        "205.171.3.25\n",
        "192.168.0.1\n",
        "192.168.0.2\n",
        "192.168.0.100\n",
        "192.168.0.1\n",
        "192.168.0.2\n",
        "192.168.0.150\n",
        "192.168.0.10\n",
        "192.168.0.11\n",
        "192.168.0.12\n",
        "192.168.0.13\n",
        "192.168.0.21\n",
        "192.168.0.22\n",
        "192.168.0.23\n",
        "192.168.0.24\n",
        "192.168.0.25\n",
        "192.168.0.33\n",
        "192.168.0.26\n",
        "192.168.0.34\n",
        "192.168.0.27\n",
        "192.168.0.35\n",
        "192.168.0.28\n",
        "192.168.0.29\n",
        "192.168.0.30\n",
        "192.168.0.31\n",
        "192.168.0.32\n",
        "192.168.0.36\n",
        "192.168.0.37\n",
        "192.168.0.38\n",
        "192.168.0.39\n",
        "192.168.0.40\n",
        "192.168.0.41\n"
       ]
      }
     ],
     "prompt_number": 10
    },
    {
     "cell_type": "code",
     "collapsed": false,
     "input": [],
     "language": "python",
     "metadata": {},
     "outputs": [],
     "prompt_number": 9
    },
    {
     "cell_type": "code",
     "collapsed": false,
     "input": [],
     "language": "python",
     "metadata": {},
     "outputs": []
    }
   ],
   "metadata": {}
  }
 ]
}