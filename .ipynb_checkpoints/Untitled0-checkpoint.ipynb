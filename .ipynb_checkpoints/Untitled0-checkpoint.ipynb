{
 "metadata": {
  "name": "",
  "signature": "sha256:434a3e24ae365245e85c72d79895ed000e5f4b68c3f0495a33458eddfa3ba76b"
 },
 "nbformat": 3,
 "nbformat_minor": 0,
 "worksheets": []
}